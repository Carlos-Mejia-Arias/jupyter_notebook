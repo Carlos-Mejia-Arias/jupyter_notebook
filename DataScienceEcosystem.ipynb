{
 "cells": [
  {
   "cell_type": "markdown",
   "id": "a56a401f-a8fe-4986-b40b-4e0489902120",
   "metadata": {},
   "source": [
    "# Data Science Tools and Ecosystem"
   ]
  },
  {
   "cell_type": "markdown",
   "id": "c6493289-df57-4d77-8dca-f6c27ccd7969",
   "metadata": {},
   "source": [
    "En este cuaderno se resumen las herramientas y el ecosistema de la ciencia de datos."
   ]
  },
  {
   "cell_type": "markdown",
   "id": "2cb60b9c-ac3f-47dc-84a2-01fa1a837bbd",
   "metadata": {},
   "source": [
    "## Autor\n",
    "Carlos Francisco Mejía Arias"
   ]
  },
  {
   "cell_type": "markdown",
   "id": "ddcb7d80-b975-4bd8-ac4f-74f32fa885d3",
   "metadata": {},
   "source": [
    "**Objetivos:**\n",
    "* Usar el Markdown de jupyter notebook\n",
    "* Crear listas en jupyter notebook\n",
    "* Utilizar los cuadernos en JupyterLab\n",
    "* Crear una tabla en jupyter notebook"
   ]
  },
  {
   "cell_type": "markdown",
   "id": "cc1e71d3-0eab-4573-a3d0-e9861acf73bc",
   "metadata": {},
   "source": [
    "Algunos de los lenguajes populares que utilizan los cientificos de datos son:\n",
    "1. Python\n",
    "2. R\n",
    "3. SQL\n",
    "4. Java"
   ]
  },
  {
   "cell_type": "markdown",
   "id": "8d605a84-91af-4e7e-83a2-aaa743ea8b04",
   "metadata": {},
   "source": [
    "Algunas de las bibliotecas más utilizadas por lo cientificos de datos son:\n",
    "1. Pandas\n",
    "2. NumPy\n",
    "3. Scikit-learn\n",
    "4. Keras"
   ]
  },
  {
   "cell_type": "markdown",
   "id": "b06aab82-09c2-4d8d-b165-bd6dd10165dc",
   "metadata": {
    "tags": []
   },
   "source": [
    "|Herramientas de Ciencia de datos|\n",
    "|--------------------------------|\n",
    "|Git|\n",
    "|Jupyther Notebook|\n",
    "|Apache Spark|"
   ]
  },
  {
   "cell_type": "markdown",
   "id": "95df7f83-34a4-48c3-a944-ba029961cbee",
   "metadata": {},
   "source": [
    "### A continuación se muestran algunos ejemplos de evaluación de expresiones aritméticas en Python.\n",
    "suma,\n",
    "resta,\n",
    "multiplicacion,\n",
    "modulo,\n",
    "exponente"
   ]
  },
  {
   "cell_type": "code",
   "execution_count": 6,
   "id": "045476a8-9f6b-4f96-89b2-f33d46e5cd73",
   "metadata": {
    "tags": []
   },
   "outputs": [
    {
     "data": {
      "text/plain": [
       "17"
      ]
     },
     "execution_count": 6,
     "metadata": {},
     "output_type": "execute_result"
    }
   ],
   "source": [
    "# Esta es una expresión aritmética simple para multiplicar y luego sumar números enteros\n",
    "(3*4)+5"
   ]
  },
  {
   "cell_type": "code",
   "execution_count": 14,
   "id": "d63d7e54-3c9c-4965-b5f1-aaba05596f19",
   "metadata": {
    "tags": []
   },
   "outputs": [
    {
     "name": "stdout",
     "output_type": "stream",
     "text": [
      "3.3333333333333335\n"
     ]
    }
   ],
   "source": [
    "# Esto convertirá 200 minutos en horas al dividir por 60\n",
    "\n",
    "print(200/60)"
   ]
  }
 ],
 "metadata": {
  "kernelspec": {
   "display_name": "Python",
   "language": "python",
   "name": "conda-env-python-py"
  },
  "language_info": {
   "codemirror_mode": {
    "name": "ipython",
    "version": 3
   },
   "file_extension": ".py",
   "mimetype": "text/x-python",
   "name": "python",
   "nbconvert_exporter": "python",
   "pygments_lexer": "ipython3",
   "version": "3.7.12"
  }
 },
 "nbformat": 4,
 "nbformat_minor": 5
}
